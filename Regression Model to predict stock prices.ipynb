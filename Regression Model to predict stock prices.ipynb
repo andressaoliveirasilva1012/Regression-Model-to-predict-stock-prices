{
 "cells": [
  {
   "cell_type": "markdown",
   "id": "9c524a44",
   "metadata": {},
   "source": [
    "## INTRODUCTION\n",
    "\n",
    "In this notebook, we have the first version of a model that aims to predict the closing price of assets that make up the S&P 500. The idea for the next versions is to use datasets with news and accounting data so that we have as many inputs as possible that have some kind of influence on whether a stock is valued or devalued."
   ]
  },
  {
   "cell_type": "code",
   "execution_count": 1,
   "id": "6eee80ea",
   "metadata": {},
   "outputs": [],
   "source": [
    "#imports\n",
    "\n",
    "import pandas as pd\n",
    "import numpy as np\n",
    "import yahoo_fin.stock_info as si\n",
    "import os\n",
    "from datetime import datetime\n",
    "import matplotlib.pyplot as plt\n",
    "import seaborn as sns\n",
    "from sklearn.model_selection import train_test_split\n",
    "from sklearn.metrics import r2_score\n",
    "from sklearn.linear_model import LinearRegression\n",
    "from sklearn.model_selection import GridSearchCV\n",
    "import warnings\n",
    "warnings.filterwarnings('ignore')\n",
    "\n",
    "SEED = 23"
   ]
  },
  {
   "cell_type": "markdown",
   "id": "2f674a8c",
   "metadata": {},
   "source": [
    "### Load the data\n",
    "\n",
    "The dataset contains historical stock price data for the companies that make up the S&P 500 index, spanning from 2018 to 2023.]\n"
   ]
  },
  {
   "cell_type": "code",
   "execution_count": 2,
   "id": "905404b7",
   "metadata": {},
   "outputs": [
    {
     "data": {
      "text/plain": [
       "'A'"
      ]
     },
     "execution_count": 2,
     "metadata": {},
     "output_type": "execute_result"
    }
   ],
   "source": [
    "tickers_sp500 = si.tickers_sp500()\n",
    "tickers_sp500[0]"
   ]
  },
  {
   "cell_type": "code",
   "execution_count": 3,
   "id": "f708a474",
   "metadata": {},
   "outputs": [],
   "source": [
    "df = si.get_data('A', start_date=\"2018-01-01\", end_date=\"2023-04-10\", index_as_date=False, interval=\"1d\" )"
   ]
  },
  {
   "cell_type": "code",
   "execution_count": 4,
   "id": "b62b13bf",
   "metadata": {},
   "outputs": [
    {
     "data": {
      "text/html": [
       "<div>\n",
       "<style scoped>\n",
       "    .dataframe tbody tr th:only-of-type {\n",
       "        vertical-align: middle;\n",
       "    }\n",
       "\n",
       "    .dataframe tbody tr th {\n",
       "        vertical-align: top;\n",
       "    }\n",
       "\n",
       "    .dataframe thead th {\n",
       "        text-align: right;\n",
       "    }\n",
       "</style>\n",
       "<table border=\"1\" class=\"dataframe\">\n",
       "  <thead>\n",
       "    <tr style=\"text-align: right;\">\n",
       "      <th></th>\n",
       "      <th>date</th>\n",
       "      <th>open</th>\n",
       "      <th>high</th>\n",
       "      <th>low</th>\n",
       "      <th>close</th>\n",
       "      <th>adjclose</th>\n",
       "      <th>volume</th>\n",
       "      <th>ticker</th>\n",
       "    </tr>\n",
       "  </thead>\n",
       "  <tbody>\n",
       "    <tr>\n",
       "      <th>0</th>\n",
       "      <td>2018-01-02</td>\n",
       "      <td>67.419998</td>\n",
       "      <td>67.889999</td>\n",
       "      <td>67.339996</td>\n",
       "      <td>67.599998</td>\n",
       "      <td>64.989250</td>\n",
       "      <td>1047800</td>\n",
       "      <td>A</td>\n",
       "    </tr>\n",
       "    <tr>\n",
       "      <th>1</th>\n",
       "      <td>2018-01-03</td>\n",
       "      <td>67.620003</td>\n",
       "      <td>69.489998</td>\n",
       "      <td>67.599998</td>\n",
       "      <td>69.320000</td>\n",
       "      <td>66.642838</td>\n",
       "      <td>1698900</td>\n",
       "      <td>A</td>\n",
       "    </tr>\n",
       "    <tr>\n",
       "      <th>2</th>\n",
       "      <td>2018-01-04</td>\n",
       "      <td>69.540001</td>\n",
       "      <td>69.820000</td>\n",
       "      <td>68.779999</td>\n",
       "      <td>68.800003</td>\n",
       "      <td>66.142906</td>\n",
       "      <td>2230700</td>\n",
       "      <td>A</td>\n",
       "    </tr>\n",
       "    <tr>\n",
       "      <th>3</th>\n",
       "      <td>2018-01-05</td>\n",
       "      <td>68.730003</td>\n",
       "      <td>70.099998</td>\n",
       "      <td>68.730003</td>\n",
       "      <td>69.900002</td>\n",
       "      <td>67.200424</td>\n",
       "      <td>1632500</td>\n",
       "      <td>A</td>\n",
       "    </tr>\n",
       "    <tr>\n",
       "      <th>4</th>\n",
       "      <td>2018-01-08</td>\n",
       "      <td>69.730003</td>\n",
       "      <td>70.330002</td>\n",
       "      <td>69.550003</td>\n",
       "      <td>70.050003</td>\n",
       "      <td>67.344627</td>\n",
       "      <td>1613400</td>\n",
       "      <td>A</td>\n",
       "    </tr>\n",
       "  </tbody>\n",
       "</table>\n",
       "</div>"
      ],
      "text/plain": [
       "        date       open       high        low      close   adjclose   volume  \\\n",
       "0 2018-01-02  67.419998  67.889999  67.339996  67.599998  64.989250  1047800   \n",
       "1 2018-01-03  67.620003  69.489998  67.599998  69.320000  66.642838  1698900   \n",
       "2 2018-01-04  69.540001  69.820000  68.779999  68.800003  66.142906  2230700   \n",
       "3 2018-01-05  68.730003  70.099998  68.730003  69.900002  67.200424  1632500   \n",
       "4 2018-01-08  69.730003  70.330002  69.550003  70.050003  67.344627  1613400   \n",
       "\n",
       "  ticker  \n",
       "0      A  \n",
       "1      A  \n",
       "2      A  \n",
       "3      A  \n",
       "4      A  "
      ]
     },
     "execution_count": 4,
     "metadata": {},
     "output_type": "execute_result"
    }
   ],
   "source": [
    "df.head()"
   ]
  },
  {
   "cell_type": "code",
   "execution_count": 5,
   "id": "c7b8a492",
   "metadata": {},
   "outputs": [],
   "source": [
    "tickers_sp500.remove('A')"
   ]
  },
  {
   "cell_type": "code",
   "execution_count": 6,
   "id": "8c9d62f9",
   "metadata": {},
   "outputs": [],
   "source": [
    "for ticker in tickers_sp500:\n",
    "    df_new = si.get_data(ticker, start_date=\"2018-01-01\", end_date=\"2023-04-10\", index_as_date=False, interval=\"1d\" )\n",
    "    df = pd.concat([df, df_new])\n"
   ]
  },
  {
   "cell_type": "code",
   "execution_count": 7,
   "id": "70e243dd",
   "metadata": {},
   "outputs": [
    {
     "data": {
      "text/plain": [
       "(660684, 8)"
      ]
     },
     "execution_count": 7,
     "metadata": {},
     "output_type": "execute_result"
    }
   ],
   "source": [
    "df.shape"
   ]
  },
  {
   "cell_type": "code",
   "execution_count": 8,
   "id": "6de31622",
   "metadata": {},
   "outputs": [
    {
     "data": {
      "text/plain": [
       "Index(['date', 'open', 'high', 'low', 'close', 'adjclose', 'volume', 'ticker'], dtype='object')"
      ]
     },
     "execution_count": 8,
     "metadata": {},
     "output_type": "execute_result"
    }
   ],
   "source": [
    "df.columns"
   ]
  },
  {
   "cell_type": "code",
   "execution_count": 9,
   "id": "ccf01d9d",
   "metadata": {},
   "outputs": [
    {
     "name": "stdout",
     "output_type": "stream",
     "text": [
      "<class 'pandas.core.frame.DataFrame'>\n",
      "Int64Index: 660684 entries, 0 to 1324\n",
      "Data columns (total 8 columns):\n",
      " #   Column    Non-Null Count   Dtype         \n",
      "---  ------    --------------   -----         \n",
      " 0   date      660684 non-null  datetime64[ns]\n",
      " 1   open      660684 non-null  float64       \n",
      " 2   high      660684 non-null  float64       \n",
      " 3   low       660684 non-null  float64       \n",
      " 4   close     660684 non-null  float64       \n",
      " 5   adjclose  660684 non-null  float64       \n",
      " 6   volume    660684 non-null  int64         \n",
      " 7   ticker    660684 non-null  object        \n",
      "dtypes: datetime64[ns](1), float64(5), int64(1), object(1)\n",
      "memory usage: 45.4+ MB\n"
     ]
    }
   ],
   "source": [
    "df.info()"
   ]
  },
  {
   "cell_type": "code",
   "execution_count": 10,
   "id": "78a5fef9",
   "metadata": {},
   "outputs": [
    {
     "data": {
      "text/html": [
       "<div>\n",
       "<style scoped>\n",
       "    .dataframe tbody tr th:only-of-type {\n",
       "        vertical-align: middle;\n",
       "    }\n",
       "\n",
       "    .dataframe tbody tr th {\n",
       "        vertical-align: top;\n",
       "    }\n",
       "\n",
       "    .dataframe thead th {\n",
       "        text-align: right;\n",
       "    }\n",
       "</style>\n",
       "<table border=\"1\" class=\"dataframe\">\n",
       "  <thead>\n",
       "    <tr style=\"text-align: right;\">\n",
       "      <th></th>\n",
       "      <th>open</th>\n",
       "      <th>high</th>\n",
       "      <th>low</th>\n",
       "      <th>close</th>\n",
       "      <th>adjclose</th>\n",
       "      <th>volume</th>\n",
       "    </tr>\n",
       "  </thead>\n",
       "  <tbody>\n",
       "    <tr>\n",
       "      <th>open</th>\n",
       "      <td>1.000000</td>\n",
       "      <td>0.999901</td>\n",
       "      <td>0.999891</td>\n",
       "      <td>0.999789</td>\n",
       "      <td>0.999492</td>\n",
       "      <td>-0.100347</td>\n",
       "    </tr>\n",
       "    <tr>\n",
       "      <th>high</th>\n",
       "      <td>0.999901</td>\n",
       "      <td>1.000000</td>\n",
       "      <td>0.999859</td>\n",
       "      <td>0.999899</td>\n",
       "      <td>0.999623</td>\n",
       "      <td>-0.099799</td>\n",
       "    </tr>\n",
       "    <tr>\n",
       "      <th>low</th>\n",
       "      <td>0.999891</td>\n",
       "      <td>0.999859</td>\n",
       "      <td>1.000000</td>\n",
       "      <td>0.999902</td>\n",
       "      <td>0.999586</td>\n",
       "      <td>-0.100919</td>\n",
       "    </tr>\n",
       "    <tr>\n",
       "      <th>close</th>\n",
       "      <td>0.999789</td>\n",
       "      <td>0.999899</td>\n",
       "      <td>0.999902</td>\n",
       "      <td>1.000000</td>\n",
       "      <td>0.999703</td>\n",
       "      <td>-0.100358</td>\n",
       "    </tr>\n",
       "    <tr>\n",
       "      <th>adjclose</th>\n",
       "      <td>0.999492</td>\n",
       "      <td>0.999623</td>\n",
       "      <td>0.999586</td>\n",
       "      <td>0.999703</td>\n",
       "      <td>1.000000</td>\n",
       "      <td>-0.097832</td>\n",
       "    </tr>\n",
       "    <tr>\n",
       "      <th>volume</th>\n",
       "      <td>-0.100347</td>\n",
       "      <td>-0.099799</td>\n",
       "      <td>-0.100919</td>\n",
       "      <td>-0.100358</td>\n",
       "      <td>-0.097832</td>\n",
       "      <td>1.000000</td>\n",
       "    </tr>\n",
       "  </tbody>\n",
       "</table>\n",
       "</div>"
      ],
      "text/plain": [
       "              open      high       low     close  adjclose    volume\n",
       "open      1.000000  0.999901  0.999891  0.999789  0.999492 -0.100347\n",
       "high      0.999901  1.000000  0.999859  0.999899  0.999623 -0.099799\n",
       "low       0.999891  0.999859  1.000000  0.999902  0.999586 -0.100919\n",
       "close     0.999789  0.999899  0.999902  1.000000  0.999703 -0.100358\n",
       "adjclose  0.999492  0.999623  0.999586  0.999703  1.000000 -0.097832\n",
       "volume   -0.100347 -0.099799 -0.100919 -0.100358 -0.097832  1.000000"
      ]
     },
     "execution_count": 10,
     "metadata": {},
     "output_type": "execute_result"
    }
   ],
   "source": [
    "df.corr()"
   ]
  },
  {
   "cell_type": "code",
   "execution_count": 11,
   "id": "f4bb0617",
   "metadata": {},
   "outputs": [],
   "source": [
    "df = df.drop(['volume'], axis=1)"
   ]
  },
  {
   "cell_type": "code",
   "execution_count": 12,
   "id": "57ddc5df",
   "metadata": {},
   "outputs": [
    {
     "data": {
      "text/html": [
       "<div>\n",
       "<style scoped>\n",
       "    .dataframe tbody tr th:only-of-type {\n",
       "        vertical-align: middle;\n",
       "    }\n",
       "\n",
       "    .dataframe tbody tr th {\n",
       "        vertical-align: top;\n",
       "    }\n",
       "\n",
       "    .dataframe thead th {\n",
       "        text-align: right;\n",
       "    }\n",
       "</style>\n",
       "<table border=\"1\" class=\"dataframe\">\n",
       "  <thead>\n",
       "    <tr style=\"text-align: right;\">\n",
       "      <th></th>\n",
       "      <th>date</th>\n",
       "      <th>open</th>\n",
       "      <th>high</th>\n",
       "      <th>low</th>\n",
       "      <th>close</th>\n",
       "      <th>adjclose</th>\n",
       "      <th>ticker</th>\n",
       "    </tr>\n",
       "  </thead>\n",
       "  <tbody>\n",
       "    <tr>\n",
       "      <th>0</th>\n",
       "      <td>2018-01-02</td>\n",
       "      <td>67.419998</td>\n",
       "      <td>67.889999</td>\n",
       "      <td>67.339996</td>\n",
       "      <td>67.599998</td>\n",
       "      <td>64.989250</td>\n",
       "      <td>A</td>\n",
       "    </tr>\n",
       "    <tr>\n",
       "      <th>1</th>\n",
       "      <td>2018-01-03</td>\n",
       "      <td>67.620003</td>\n",
       "      <td>69.489998</td>\n",
       "      <td>67.599998</td>\n",
       "      <td>69.320000</td>\n",
       "      <td>66.642838</td>\n",
       "      <td>A</td>\n",
       "    </tr>\n",
       "    <tr>\n",
       "      <th>2</th>\n",
       "      <td>2018-01-04</td>\n",
       "      <td>69.540001</td>\n",
       "      <td>69.820000</td>\n",
       "      <td>68.779999</td>\n",
       "      <td>68.800003</td>\n",
       "      <td>66.142906</td>\n",
       "      <td>A</td>\n",
       "    </tr>\n",
       "    <tr>\n",
       "      <th>3</th>\n",
       "      <td>2018-01-05</td>\n",
       "      <td>68.730003</td>\n",
       "      <td>70.099998</td>\n",
       "      <td>68.730003</td>\n",
       "      <td>69.900002</td>\n",
       "      <td>67.200424</td>\n",
       "      <td>A</td>\n",
       "    </tr>\n",
       "    <tr>\n",
       "      <th>4</th>\n",
       "      <td>2018-01-08</td>\n",
       "      <td>69.730003</td>\n",
       "      <td>70.330002</td>\n",
       "      <td>69.550003</td>\n",
       "      <td>70.050003</td>\n",
       "      <td>67.344627</td>\n",
       "      <td>A</td>\n",
       "    </tr>\n",
       "  </tbody>\n",
       "</table>\n",
       "</div>"
      ],
      "text/plain": [
       "        date       open       high        low      close   adjclose ticker\n",
       "0 2018-01-02  67.419998  67.889999  67.339996  67.599998  64.989250      A\n",
       "1 2018-01-03  67.620003  69.489998  67.599998  69.320000  66.642838      A\n",
       "2 2018-01-04  69.540001  69.820000  68.779999  68.800003  66.142906      A\n",
       "3 2018-01-05  68.730003  70.099998  68.730003  69.900002  67.200424      A\n",
       "4 2018-01-08  69.730003  70.330002  69.550003  70.050003  67.344627      A"
      ]
     },
     "execution_count": 12,
     "metadata": {},
     "output_type": "execute_result"
    }
   ],
   "source": [
    "df.head()"
   ]
  },
  {
   "cell_type": "code",
   "execution_count": 13,
   "id": "9a472108",
   "metadata": {},
   "outputs": [
    {
     "data": {
      "text/html": [
       "<div>\n",
       "<style scoped>\n",
       "    .dataframe tbody tr th:only-of-type {\n",
       "        vertical-align: middle;\n",
       "    }\n",
       "\n",
       "    .dataframe tbody tr th {\n",
       "        vertical-align: top;\n",
       "    }\n",
       "\n",
       "    .dataframe thead th {\n",
       "        text-align: right;\n",
       "    }\n",
       "</style>\n",
       "<table border=\"1\" class=\"dataframe\">\n",
       "  <thead>\n",
       "    <tr style=\"text-align: right;\">\n",
       "      <th></th>\n",
       "      <th>open</th>\n",
       "      <th>high</th>\n",
       "      <th>low</th>\n",
       "      <th>close</th>\n",
       "      <th>adjclose</th>\n",
       "    </tr>\n",
       "  </thead>\n",
       "  <tbody>\n",
       "    <tr>\n",
       "      <th>0</th>\n",
       "      <td>67.419998</td>\n",
       "      <td>67.889999</td>\n",
       "      <td>67.339996</td>\n",
       "      <td>67.599998</td>\n",
       "      <td>64.989250</td>\n",
       "    </tr>\n",
       "    <tr>\n",
       "      <th>1</th>\n",
       "      <td>67.620003</td>\n",
       "      <td>69.489998</td>\n",
       "      <td>67.599998</td>\n",
       "      <td>69.320000</td>\n",
       "      <td>66.642838</td>\n",
       "    </tr>\n",
       "    <tr>\n",
       "      <th>2</th>\n",
       "      <td>69.540001</td>\n",
       "      <td>69.820000</td>\n",
       "      <td>68.779999</td>\n",
       "      <td>68.800003</td>\n",
       "      <td>66.142906</td>\n",
       "    </tr>\n",
       "    <tr>\n",
       "      <th>3</th>\n",
       "      <td>68.730003</td>\n",
       "      <td>70.099998</td>\n",
       "      <td>68.730003</td>\n",
       "      <td>69.900002</td>\n",
       "      <td>67.200424</td>\n",
       "    </tr>\n",
       "    <tr>\n",
       "      <th>4</th>\n",
       "      <td>69.730003</td>\n",
       "      <td>70.330002</td>\n",
       "      <td>69.550003</td>\n",
       "      <td>70.050003</td>\n",
       "      <td>67.344627</td>\n",
       "    </tr>\n",
       "  </tbody>\n",
       "</table>\n",
       "</div>"
      ],
      "text/plain": [
       "        open       high        low      close   adjclose\n",
       "0  67.419998  67.889999  67.339996  67.599998  64.989250\n",
       "1  67.620003  69.489998  67.599998  69.320000  66.642838\n",
       "2  69.540001  69.820000  68.779999  68.800003  66.142906\n",
       "3  68.730003  70.099998  68.730003  69.900002  67.200424\n",
       "4  69.730003  70.330002  69.550003  70.050003  67.344627"
      ]
     },
     "execution_count": 13,
     "metadata": {},
     "output_type": "execute_result"
    }
   ],
   "source": [
    "df = df.drop(['date', 'ticker'], axis=1)\n",
    "df.head()"
   ]
  },
  {
   "cell_type": "code",
   "execution_count": 14,
   "id": "f74f2abd",
   "metadata": {},
   "outputs": [
    {
     "data": {
      "text/plain": [
       "['open', 'high', 'low', 'close', 'adjclose']"
      ]
     },
     "execution_count": 14,
     "metadata": {},
     "output_type": "execute_result"
    }
   ],
   "source": [
    "cols = list(df.columns)\n",
    "cols"
   ]
  },
  {
   "cell_type": "code",
   "execution_count": 15,
   "id": "a28e2e35",
   "metadata": {},
   "outputs": [],
   "source": [
    "cols.remove('close')"
   ]
  },
  {
   "cell_type": "code",
   "execution_count": 16,
   "id": "3546c4db",
   "metadata": {},
   "outputs": [
    {
     "data": {
      "text/plain": [
       "['open', 'high', 'low', 'adjclose']"
      ]
     },
     "execution_count": 16,
     "metadata": {},
     "output_type": "execute_result"
    }
   ],
   "source": [
    "cols"
   ]
  },
  {
   "cell_type": "code",
   "execution_count": 17,
   "id": "3e2e57d8",
   "metadata": {},
   "outputs": [
    {
     "data": {
      "text/html": [
       "<div>\n",
       "<style scoped>\n",
       "    .dataframe tbody tr th:only-of-type {\n",
       "        vertical-align: middle;\n",
       "    }\n",
       "\n",
       "    .dataframe tbody tr th {\n",
       "        vertical-align: top;\n",
       "    }\n",
       "\n",
       "    .dataframe thead th {\n",
       "        text-align: right;\n",
       "    }\n",
       "</style>\n",
       "<table border=\"1\" class=\"dataframe\">\n",
       "  <thead>\n",
       "    <tr style=\"text-align: right;\">\n",
       "      <th></th>\n",
       "      <th>open</th>\n",
       "      <th>high</th>\n",
       "      <th>low</th>\n",
       "      <th>adjclose</th>\n",
       "    </tr>\n",
       "  </thead>\n",
       "  <tbody>\n",
       "    <tr>\n",
       "      <th>0</th>\n",
       "      <td>67.419998</td>\n",
       "      <td>67.889999</td>\n",
       "      <td>67.339996</td>\n",
       "      <td>64.989250</td>\n",
       "    </tr>\n",
       "    <tr>\n",
       "      <th>1</th>\n",
       "      <td>67.620003</td>\n",
       "      <td>69.489998</td>\n",
       "      <td>67.599998</td>\n",
       "      <td>66.642838</td>\n",
       "    </tr>\n",
       "    <tr>\n",
       "      <th>2</th>\n",
       "      <td>69.540001</td>\n",
       "      <td>69.820000</td>\n",
       "      <td>68.779999</td>\n",
       "      <td>66.142906</td>\n",
       "    </tr>\n",
       "    <tr>\n",
       "      <th>3</th>\n",
       "      <td>68.730003</td>\n",
       "      <td>70.099998</td>\n",
       "      <td>68.730003</td>\n",
       "      <td>67.200424</td>\n",
       "    </tr>\n",
       "    <tr>\n",
       "      <th>4</th>\n",
       "      <td>69.730003</td>\n",
       "      <td>70.330002</td>\n",
       "      <td>69.550003</td>\n",
       "      <td>67.344627</td>\n",
       "    </tr>\n",
       "  </tbody>\n",
       "</table>\n",
       "</div>"
      ],
      "text/plain": [
       "        open       high        low   adjclose\n",
       "0  67.419998  67.889999  67.339996  64.989250\n",
       "1  67.620003  69.489998  67.599998  66.642838\n",
       "2  69.540001  69.820000  68.779999  66.142906\n",
       "3  68.730003  70.099998  68.730003  67.200424\n",
       "4  69.730003  70.330002  69.550003  67.344627"
      ]
     },
     "execution_count": 17,
     "metadata": {},
     "output_type": "execute_result"
    }
   ],
   "source": [
    "X = df[cols]\n",
    "X.head()"
   ]
  },
  {
   "cell_type": "code",
   "execution_count": 18,
   "id": "996e000c",
   "metadata": {},
   "outputs": [
    {
     "data": {
      "text/plain": [
       "0    67.599998\n",
       "1    69.320000\n",
       "2    68.800003\n",
       "3    69.900002\n",
       "4    70.050003\n",
       "Name: close, dtype: float64"
      ]
     },
     "execution_count": 18,
     "metadata": {},
     "output_type": "execute_result"
    }
   ],
   "source": [
    "y = df['close']\n",
    "y.head()"
   ]
  },
  {
   "cell_type": "code",
   "execution_count": 19,
   "id": "38c72127",
   "metadata": {},
   "outputs": [],
   "source": [
    "X_train, X_test, y_train, y_test = train_test_split(X, y, random_state=SEED, test_size=0.30)"
   ]
  },
  {
   "cell_type": "markdown",
   "id": "7a16a059",
   "metadata": {},
   "source": [
    "## Grid Search\n"
   ]
  },
  {
   "cell_type": "code",
   "execution_count": 20,
   "id": "1c9ff371",
   "metadata": {},
   "outputs": [
    {
     "name": "stdout",
     "output_type": "stream",
     "text": [
      "{'copy_X': True, 'fit_intercept': True, 'normalize': False}\n"
     ]
    }
   ],
   "source": [
    "regressor = LinearRegression()\n",
    "parameters = {'fit_intercept':[True, False], 'normalize':[True, False], 'copy_X':[True, False]}\n",
    "grid_search = GridSearchCV(regressor, parameters, cv=5, scoring='neg_mean_squared_error')\n",
    "grid_search.fit(X_train, y_train)\n",
    "print(grid_search.best_params_)"
   ]
  },
  {
   "cell_type": "markdown",
   "id": "6677d3f9",
   "metadata": {},
   "source": [
    "## Model"
   ]
  },
  {
   "cell_type": "markdown",
   "id": "8fb76018",
   "metadata": {},
   "source": [
    "### LinearRegression"
   ]
  },
  {
   "cell_type": "code",
   "execution_count": 21,
   "id": "68bda2dd",
   "metadata": {},
   "outputs": [
    {
     "name": "stdout",
     "output_type": "stream",
     "text": [
      "0.9999241018105294\n"
     ]
    }
   ],
   "source": [
    "model= LinearRegression(copy_X=True, fit_intercept=True, normalize= False)\n",
    "model.fit(X_train, y_train)\n",
    "\n",
    "pred = model.predict(X_test)\n",
    "\n",
    "r2 = r2_score(y_test, pred)\n",
    "\n",
    "print(r2)"
   ]
  }
 ],
 "metadata": {
  "kernelspec": {
   "display_name": "Python 3 (ipykernel)",
   "language": "python",
   "name": "python3"
  },
  "language_info": {
   "codemirror_mode": {
    "name": "ipython",
    "version": 3
   },
   "file_extension": ".py",
   "mimetype": "text/x-python",
   "name": "python",
   "nbconvert_exporter": "python",
   "pygments_lexer": "ipython3",
   "version": "3.9.12"
  }
 },
 "nbformat": 4,
 "nbformat_minor": 5
}
